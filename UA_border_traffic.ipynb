{
 "cells": [
  {
   "cell_type": "code",
   "execution_count": null,
   "id": "ee9bb57f-e206-4f37-9781-951fae46057f",
   "metadata": {
    "tags": []
   },
   "outputs": [],
   "source": [
    "import pandas as pd\n",
    "import numpy as np \n",
    "import panel as pn\n",
    "import datetime as dt\n",
    "import param\n",
    "pn.extension('tabulator')\n",
    "\n",
    "import hvplot.pandas"
   ]
  },
  {
   "cell_type": "markdown",
   "id": "530e2606-ff30-45b7-af90-0e9e3cfcc819",
   "metadata": {},
   "source": [
    "<h3>Preparing Data for Plotting</h3>"
   ]
  },
  {
   "cell_type": "code",
   "execution_count": null,
   "id": "7555f9cb-9dc6-4f0d-8a79-ebed262309b3",
   "metadata": {},
   "outputs": [],
   "source": [
    "# Importing Csv with data\n",
    "df = pd.read_csv('/Users/uzytkownik/desktop/border_traffic_UA_PL_01_03.csv')"
   ]
  },
  {
   "cell_type": "code",
   "execution_count": null,
   "id": "905a9a5d-e786-4c61-902a-223b0d1eeb79",
   "metadata": {
    "tags": []
   },
   "outputs": [],
   "source": [
    "df.head()"
   ]
  },
  {
   "cell_type": "code",
   "execution_count": null,
   "id": "4e3b2697-50e1-4546-8407-b98e4c546a5c",
   "metadata": {
    "tags": []
   },
   "outputs": [],
   "source": [
    "df.dtypes"
   ]
  },
  {
   "cell_type": "code",
   "execution_count": null,
   "id": "f91bf5ce-8ea3-4dc5-8b9a-2d2df85dba43",
   "metadata": {},
   "outputs": [],
   "source": [
    "df = df.fillna(0)"
   ]
  },
  {
   "cell_type": "code",
   "execution_count": null,
   "id": "3e5b70c4-4d76-4947-b717-abcfef11f0eb",
   "metadata": {},
   "outputs": [],
   "source": [
    "df.rename(columns = {'Border crossing' : 'Border crossing name',\n",
    "                     'Type of border crossing' : 'Type of border',\n",
    "                     'Direction to / from Poland' : 'Direction', 'Citizenship (code)' : 'Citizenship_code'}, inplace=True) "
   ]
  },
  {
   "cell_type": "code",
   "execution_count": null,
   "id": "60aa1ea9-0d87-494a-a7d8-ba77389f683e",
   "metadata": {},
   "outputs": [],
   "source": [
    "df['Date'] = pd.to_datetime(df['Date'], format = '%Y/%m/%d')"
   ]
  },
  {
   "cell_type": "code",
   "execution_count": null,
   "id": "ba5947ae-07c8-46e0-8469-095c13aa1b18",
   "metadata": {},
   "outputs": [],
   "source": [
    "df['Month'] = df['Date'].dt.strftime('%m')"
   ]
  },
  {
   "cell_type": "code",
   "execution_count": null,
   "id": "65decbd0-d5ba-4bc9-9f38-95dfc79faaf5",
   "metadata": {},
   "outputs": [],
   "source": [
    "def month_name(x):\n",
    "    if x == '01':\n",
    "        return 'January'\n",
    "    elif x == '02':\n",
    "        return 'February'\n",
    "    else:\n",
    "        return 'March'"
   ]
  },
  {
   "cell_type": "code",
   "execution_count": null,
   "id": "9ed7b00f-d086-42e8-88f9-838d7ee60e67",
   "metadata": {},
   "outputs": [],
   "source": [
    "df['Month_name'] = df['Month'].apply(month_name)"
   ]
  },
  {
   "cell_type": "code",
   "execution_count": null,
   "id": "b8c849f2-8961-45a9-bee0-2ca53fc005b2",
   "metadata": {
    "tags": []
   },
   "outputs": [],
   "source": [
    "df['Border Guard Post'].unique()"
   ]
  },
  {
   "cell_type": "code",
   "execution_count": null,
   "id": "70c42f22-6e02-4101-9c3d-1c986d9af75a",
   "metadata": {},
   "outputs": [],
   "source": [
    "df.sort_values(by = 'Date', ascending = True, inplace = True)"
   ]
  },
  {
   "cell_type": "code",
   "execution_count": null,
   "id": "634091e1-b14c-4510-8ccb-c7b2f0b9a901",
   "metadata": {},
   "outputs": [],
   "source": [
    "df['Month'] = df['Month'].astype(int)"
   ]
  },
  {
   "cell_type": "code",
   "execution_count": null,
   "id": "f1f15684-c510-464f-9f78-276f4fc713ef",
   "metadata": {},
   "outputs": [],
   "source": [
    "def func_zero(x):\n",
    "    if x == '0':\n",
    "        return 'Other'\n",
    "    elif x == 'UE':\n",
    "        return 'European Union'\n",
    "    else:\n",
    "        return 'Schengen'"
   ]
  },
  {
   "cell_type": "code",
   "execution_count": null,
   "id": "77cc57f3-a127-40c3-80cc-27176a440010",
   "metadata": {},
   "outputs": [],
   "source": [
    "df['UE / Schengen'] = df['UE / Schengen'].apply(func_zero)"
   ]
  },
  {
   "cell_type": "code",
   "execution_count": null,
   "id": "a9e94296-5692-4d37-ae43-4d1656b4b64f",
   "metadata": {
    "tags": []
   },
   "outputs": [],
   "source": [
    "df['Total number of people crossing border'] = df['Number of persons (checked-in)']+df['Number of people (evacuated)']"
   ]
  },
  {
   "cell_type": "markdown",
   "id": "96daf020-08b2-4923-940d-6b6e6564ade5",
   "metadata": {},
   "source": [
    "<h3>Visualizations</h3>"
   ]
  },
  {
   "cell_type": "code",
   "execution_count": null,
   "id": "eaf77cb6-570f-48af-8323-585d3265aa68",
   "metadata": {},
   "outputs": [],
   "source": [
    "# Make DataFrame Pipeline Interactive\n",
    "idf = df.interactive()"
   ]
  },
  {
   "cell_type": "code",
   "execution_count": null,
   "id": "bf38bf8c-42e2-4ccc-97f1-5dc878ea5129",
   "metadata": {},
   "outputs": [],
   "source": [
    "# buttons for Border crossing name (plot 1)\n",
    "radio_group1 = pn.widgets.RadioButtonGroup(\n",
    "    name = 'Y axis',\n",
    "    options = ['Number of persons (checked-in)','Number of people (evacuated)'],\n",
    "    button_type = 'primary'\n",
    ")"
   ]
  },
  {
   "cell_type": "code",
   "execution_count": null,
   "id": "58df8fa0-5f4a-4371-8950-652b994e65a9",
   "metadata": {},
   "outputs": [],
   "source": [
    "# (1)Timeseries 1\n",
    "border_pipeline = (\n",
    "    idf[\n",
    "        (idf.Date <= df['Date']) &\n",
    "        (idf.Citizenship_code.isin(df['Citizenship_code']))\n",
    "    ]\n",
    "    .groupby(['Citizenship_code','Date'])[radio_group1].sum()\n",
    "    .to_frame()\n",
    "    .reset_index()\n",
    "    .sort_values(by = 'Date')\n",
    "    .reset_index(drop = True)\n",
    ")"
   ]
  },
  {
   "cell_type": "code",
   "execution_count": null,
   "id": "f2c46808-6ebe-4550-8bb5-cb8d5ccc78cf",
   "metadata": {},
   "outputs": [],
   "source": [
    "# (1)Timeseries 1\n",
    "border_timeseries1 = border_pipeline.hvplot(x = 'Date', by = 'Citizenship_code', y = radio_group1, line_width = 2,title = 'Number of border crossings by Cirizenship code')"
   ]
  },
  {
   "cell_type": "code",
   "execution_count": null,
   "id": "69abb4ef-c035-41ba-af98-b3f1b8569835",
   "metadata": {},
   "outputs": [],
   "source": [
    "border_timeseries1"
   ]
  },
  {
   "cell_type": "code",
   "execution_count": null,
   "id": "1b7f08a3-b06d-4c14-827e-ffc65afc76b4",
   "metadata": {},
   "outputs": [],
   "source": [
    "# (2)Table\n",
    "border_table_data = (idf[['Citizenship_code','Total number of people crossing border']]\n",
    "                     .groupby(by ='Citizenship_code').sum()\n",
    "                     .reset_index()\n",
    "                     .sort_values(by= 'Total number of people crossing border', ascending=False) \n",
    "                     .reset_index(drop = True)\n",
    "                    )"
   ]
  },
  {
   "cell_type": "code",
   "execution_count": null,
   "id": "1c79e122-9d2b-4d98-a03d-b0acea2d695d",
   "metadata": {},
   "outputs": [],
   "source": [
    "# (2)Table\n",
    "border_table = border_table_data.pipe(pn.widgets.Tabulator, page_size = 10, pagination = 'remote', sizing_mode = 'stretch_width')"
   ]
  },
  {
   "cell_type": "code",
   "execution_count": null,
   "id": "485444de-7cb3-449a-a135-d57696f688d2",
   "metadata": {},
   "outputs": [],
   "source": [
    "border_table"
   ]
  },
  {
   "cell_type": "code",
   "execution_count": null,
   "id": "2fe92d25-538f-4377-b696-fea497446fa0",
   "metadata": {},
   "outputs": [],
   "source": [
    "# (3)Timeseries 2\n",
    "border_pipeline2 = (\n",
    "    idf[['Date','Direction','Total number of people crossing border']]\n",
    "    .groupby(['Date','Direction']).sum()\n",
    "    .reset_index()\n",
    "    .sort_values(by = 'Date', ascending = True)\n",
    "    .reset_index(drop = True)\n",
    ")"
   ]
  },
  {
   "cell_type": "code",
   "execution_count": null,
   "id": "ea93ecb4-6f3c-4caf-a777-fd5c2187fd80",
   "metadata": {},
   "outputs": [],
   "source": [
    "# (3)Timeseries 2\n",
    "border_timeseries2 = border_pipeline2.hvplot( x = 'Date', by = 'Direction', y = 'Total number of people crossing border', line_width = 2, title = 'Number of border crossings by Direction', legend = 'top_left')"
   ]
  },
  {
   "cell_type": "code",
   "execution_count": null,
   "id": "fd7cc2ea-757a-4462-96da-fd5221cb6542",
   "metadata": {},
   "outputs": [],
   "source": [
    "border_timeseries2"
   ]
  },
  {
   "cell_type": "code",
   "execution_count": null,
   "id": "3259d74a-da3a-451e-8a2c-01d4f96b26ea",
   "metadata": {},
   "outputs": [],
   "source": [
    "# (4) Bar chart \n",
    "border_pipeline3 = (\n",
    "    idf[['UE / Schengen','Total number of people crossing border',\n",
    "         'Number of persons (checked-in)',\n",
    "         'Number of people (evacuated)']]\n",
    "    .groupby(['UE / Schengen']).sum()\n",
    "    .reset_index()\n",
    "    .sort_values(by = 'Total number of people crossing border', ascending = False)\n",
    "    .reset_index(drop = True)\n",
    ")"
   ]
  },
  {
   "cell_type": "code",
   "execution_count": null,
   "id": "b1e3a996-cf1f-4b88-85b6-4ca95afaabe9",
   "metadata": {},
   "outputs": [],
   "source": [
    "# (4) Bar chart \n",
    "border_bar = border_pipeline3.hvplot(kind ='bar',\n",
    "                                      x = 'UE / Schengen',\n",
    "                                      y = ['Number of persons (checked-in)','Number of people (evacuated)'],\n",
    "                                      stacked = True,\n",
    "                                      title = 'Total number of people crossing border', \n",
    "                                      legend='top_right', \n",
    "                                      ylabel= 'Total number of people crossing border',\n",
    "                                      xlabel = 'Membership')"
   ]
  },
  {
   "cell_type": "code",
   "execution_count": null,
   "id": "2732c7ef-a8b1-4899-98f8-0231aa138048",
   "metadata": {},
   "outputs": [],
   "source": [
    "border_bar"
   ]
  },
  {
   "cell_type": "code",
   "execution_count": null,
   "id": "6010c7a1-2312-4455-b24f-e36c7c582a1c",
   "metadata": {},
   "outputs": [],
   "source": [
    "# (5) Barh chart\n",
    "border_pipeline4 = (\n",
    "    idf[['Month_name','Month','Border Guard Post','Total number of people crossing border']]\n",
    "    .groupby(['Month','Month_name','Border Guard Post']).sum()\n",
    "    .reset_index()\n",
    "    .sort_values(by = 'Month', ascending = False)\n",
    "    .reset_index(drop = True)\n",
    ")"
   ]
  },
  {
   "cell_type": "code",
   "execution_count": null,
   "id": "37c00685-813d-44ef-ab21-14bcff8c72bf",
   "metadata": {},
   "outputs": [],
   "source": [
    "# (5) Barh chart\n",
    "border_barh = border_pipeline4.hvplot(kind = 'barh',\n",
    "                                      x = 'Month_name',\n",
    "                                      y = 'Total number of people crossing border',\n",
    "                                      by = 'Border Guard Post',\n",
    "                                      stacked = False,\n",
    "                                      title = 'Number of border crossings by Guard Post Name',  \n",
    "                                      ylabel = 'Guard Post Name',\n",
    "                                      xlabel = 'Month')\n",
    "      "
   ]
  },
  {
   "cell_type": "code",
   "execution_count": null,
   "id": "8aef9c3a-5a29-43a0-b3c5-c157f1fed49c",
   "metadata": {},
   "outputs": [],
   "source": [
    "border_barh"
   ]
  },
  {
   "cell_type": "markdown",
   "id": "8a5fd167-e22b-4055-b170-111cd6bad9b1",
   "metadata": {},
   "source": [
    "<h3>Creating Dashboard</h3>"
   ]
  },
  {
   "cell_type": "code",
   "execution_count": null,
   "id": "82f21a52-53e5-45ad-ab77-d4f8ff310bd9",
   "metadata": {},
   "outputs": [],
   "source": [
    "#Layout using Template\n",
    "template = pn.template.FastListTemplate(\n",
    "    title= 'Polish-Ukrainian border traffic dashboard', \n",
    "    sidebar=[pn.pane.Markdown(\"# Traffic on Polish-Ukrainian border recorded from Jan 2022 to Mar 2022\"), \n",
    "             pn.pane.Markdown(\"#### Dashboard was created based on dataset published on Kaggle. The Dataset containing statistical data refers to the situation on the Polish-Ukrainian border between January and April 2022, including (among others): Number of people evacuated, checked in, Citizenship code of people crossing border and Guard Border Post name.\"), \n",
    "             pn.pane.PNG('https://encrypted-tbn0.gstatic.com/images?q=tbn:ANd9GcSSFCS9WeMESgtLlx-yOB5mq1OIVOfWhSRIsqaGKkNiaTRzwEy_LNY_UOjonB9StHrnKv0&usqp=CAU.png', sizing_mode='scale_both')],\n",
    "    main=[pn.Row(pn.Column(radio_group1, \n",
    "                           border_timeseries1.panel(width=700), margin=(0,25)), \n",
    "                 pn.Column(border_table.panel(width=590))), \n",
    "          pn.Row(pn.Column(border_timeseries2.panel(width=700), margin=(0,25)), \n",
    "                 pn.Column(border_bar.panel(width=600))),\n",
    "          pn.Row(border_barh.panel(width=1300, height = 400))],\n",
    "    accent_base_color=\"#1874CD\",\n",
    "    header_background=\"#104E8B\",\n",
    ")\n",
    "# template.show()\n",
    "template.servable();"
   ]
  },
  {
   "cell_type": "code",
   "execution_count": null,
   "id": "88b6b42b-41bc-4f0a-899d-ca4bb3dd6301",
   "metadata": {},
   "outputs": [],
   "source": []
  },
  {
   "cell_type": "code",
   "execution_count": null,
   "id": "bd1d3c1f",
   "metadata": {},
   "outputs": [],
   "source": []
  }
 ],
 "metadata": {
  "kernelspec": {
   "display_name": "Python 3 (ipykernel)",
   "language": "python",
   "name": "python3"
  },
  "language_info": {
   "codemirror_mode": {
    "name": "ipython",
    "version": 3
   },
   "file_extension": ".py",
   "mimetype": "text/x-python",
   "name": "python",
   "nbconvert_exporter": "python",
   "pygments_lexer": "ipython3",
   "version": "3.9.12"
  }
 },
 "nbformat": 4,
 "nbformat_minor": 5
}
